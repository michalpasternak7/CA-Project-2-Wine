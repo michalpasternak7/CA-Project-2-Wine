{
 "cells": [
  {
   "cell_type": "markdown",
   "metadata": {},
   "source": [
    "# **Getting your data ready**"
   ]
  },
  {
   "cell_type": "code",
   "execution_count": 8,
   "metadata": {},
   "outputs": [],
   "source": [
    "# imports\n",
    "import pandas as pd\n",
    "import matplotlib.pyplot as plt\n",
    "import seaborn as sns\n",
    "import numpy as np\n",
    "from scipy import stats\n",
    "from sklearn.model_selection import train_test_split"
   ]
  },
  {
   "cell_type": "code",
   "execution_count": 9,
   "metadata": {},
   "outputs": [],
   "source": [
    "# read the data\n",
    "red_wine = pd.read_csv('https://archive.ics.uci.edu/ml/machine-learning-databases/wine-quality/winequality-red.csv', sep=';')\n",
    "white_wine = pd.read_csv('https://archive.ics.uci.edu/ml/machine-learning-databases/wine-quality/winequality-white.csv', sep=';')"
   ]
  },
  {
   "cell_type": "code",
   "execution_count": 10,
   "metadata": {},
   "outputs": [],
   "source": [
    "# remove lines that have all values duplicated\n",
    "red_wine.drop_duplicates(inplace=True)\n",
    "white_wine.drop_duplicates(inplace=True)"
   ]
  },
  {
   "cell_type": "code",
   "execution_count": 11,
   "metadata": {},
   "outputs": [],
   "source": [
    "# create a df with all wines for later analysis\n",
    "\n",
    "# add color of wine as parameter\n",
    "red_wine['red'] = 1\n",
    "red_wine['white'] = 0\n",
    "white_wine['white'] = 1\n",
    "white_wine['red'] = 0\n",
    "\n",
    "# combine the wine dfs\n",
    "wine = pd.concat([red_wine, white_wine])"
   ]
  },
  {
   "cell_type": "code",
   "execution_count": 12,
   "metadata": {},
   "outputs": [],
   "source": [
    "# use the rename method to change all columns names lowercase and add an underscore if they are made of 2 words\n",
    "wine.rename(str.lower, axis='columns', inplace=True)  # make the names lowercase\n",
    "wine.columns = wine.columns.str.replace(' ', '_')       # replace space with underscore in column names"
   ]
  },
  {
   "cell_type": "code",
   "execution_count": 13,
   "metadata": {},
   "outputs": [
    {
     "data": {
      "text/html": [
       "<div>\n",
       "<style scoped>\n",
       "    .dataframe tbody tr th:only-of-type {\n",
       "        vertical-align: middle;\n",
       "    }\n",
       "\n",
       "    .dataframe tbody tr th {\n",
       "        vertical-align: top;\n",
       "    }\n",
       "\n",
       "    .dataframe thead th {\n",
       "        text-align: right;\n",
       "    }\n",
       "</style>\n",
       "<table border=\"1\" class=\"dataframe\">\n",
       "  <thead>\n",
       "    <tr style=\"text-align: right;\">\n",
       "      <th></th>\n",
       "      <th>fixed_acidity</th>\n",
       "      <th>volatile_acidity</th>\n",
       "      <th>citric_acid</th>\n",
       "      <th>residual_sugar</th>\n",
       "      <th>chlorides</th>\n",
       "      <th>free_sulfur_dioxide</th>\n",
       "      <th>total_sulfur_dioxide</th>\n",
       "      <th>density</th>\n",
       "      <th>ph</th>\n",
       "      <th>sulphates</th>\n",
       "      <th>alcohol</th>\n",
       "      <th>quality</th>\n",
       "      <th>red</th>\n",
       "      <th>white</th>\n",
       "    </tr>\n",
       "  </thead>\n",
       "  <tbody>\n",
       "    <tr>\n",
       "      <th>0</th>\n",
       "      <td>7.4</td>\n",
       "      <td>0.70</td>\n",
       "      <td>0.00</td>\n",
       "      <td>1.9</td>\n",
       "      <td>0.076</td>\n",
       "      <td>11.0</td>\n",
       "      <td>34.0</td>\n",
       "      <td>0.99780</td>\n",
       "      <td>3.51</td>\n",
       "      <td>0.56</td>\n",
       "      <td>9.4</td>\n",
       "      <td>5</td>\n",
       "      <td>1</td>\n",
       "      <td>0</td>\n",
       "    </tr>\n",
       "    <tr>\n",
       "      <th>1</th>\n",
       "      <td>7.8</td>\n",
       "      <td>0.88</td>\n",
       "      <td>0.00</td>\n",
       "      <td>2.6</td>\n",
       "      <td>0.098</td>\n",
       "      <td>25.0</td>\n",
       "      <td>67.0</td>\n",
       "      <td>0.99680</td>\n",
       "      <td>3.20</td>\n",
       "      <td>0.68</td>\n",
       "      <td>9.8</td>\n",
       "      <td>5</td>\n",
       "      <td>1</td>\n",
       "      <td>0</td>\n",
       "    </tr>\n",
       "    <tr>\n",
       "      <th>2</th>\n",
       "      <td>7.8</td>\n",
       "      <td>0.76</td>\n",
       "      <td>0.04</td>\n",
       "      <td>2.3</td>\n",
       "      <td>0.092</td>\n",
       "      <td>15.0</td>\n",
       "      <td>54.0</td>\n",
       "      <td>0.99700</td>\n",
       "      <td>3.26</td>\n",
       "      <td>0.65</td>\n",
       "      <td>9.8</td>\n",
       "      <td>5</td>\n",
       "      <td>1</td>\n",
       "      <td>0</td>\n",
       "    </tr>\n",
       "    <tr>\n",
       "      <th>3</th>\n",
       "      <td>11.2</td>\n",
       "      <td>0.28</td>\n",
       "      <td>0.56</td>\n",
       "      <td>1.9</td>\n",
       "      <td>0.075</td>\n",
       "      <td>17.0</td>\n",
       "      <td>60.0</td>\n",
       "      <td>0.99800</td>\n",
       "      <td>3.16</td>\n",
       "      <td>0.58</td>\n",
       "      <td>9.8</td>\n",
       "      <td>6</td>\n",
       "      <td>1</td>\n",
       "      <td>0</td>\n",
       "    </tr>\n",
       "    <tr>\n",
       "      <th>5</th>\n",
       "      <td>7.4</td>\n",
       "      <td>0.66</td>\n",
       "      <td>0.00</td>\n",
       "      <td>1.8</td>\n",
       "      <td>0.075</td>\n",
       "      <td>13.0</td>\n",
       "      <td>40.0</td>\n",
       "      <td>0.99780</td>\n",
       "      <td>3.51</td>\n",
       "      <td>0.56</td>\n",
       "      <td>9.4</td>\n",
       "      <td>5</td>\n",
       "      <td>1</td>\n",
       "      <td>0</td>\n",
       "    </tr>\n",
       "    <tr>\n",
       "      <th>...</th>\n",
       "      <td>...</td>\n",
       "      <td>...</td>\n",
       "      <td>...</td>\n",
       "      <td>...</td>\n",
       "      <td>...</td>\n",
       "      <td>...</td>\n",
       "      <td>...</td>\n",
       "      <td>...</td>\n",
       "      <td>...</td>\n",
       "      <td>...</td>\n",
       "      <td>...</td>\n",
       "      <td>...</td>\n",
       "      <td>...</td>\n",
       "      <td>...</td>\n",
       "    </tr>\n",
       "    <tr>\n",
       "      <th>4893</th>\n",
       "      <td>6.2</td>\n",
       "      <td>0.21</td>\n",
       "      <td>0.29</td>\n",
       "      <td>1.6</td>\n",
       "      <td>0.039</td>\n",
       "      <td>24.0</td>\n",
       "      <td>92.0</td>\n",
       "      <td>0.99114</td>\n",
       "      <td>3.27</td>\n",
       "      <td>0.50</td>\n",
       "      <td>11.2</td>\n",
       "      <td>6</td>\n",
       "      <td>0</td>\n",
       "      <td>1</td>\n",
       "    </tr>\n",
       "    <tr>\n",
       "      <th>4894</th>\n",
       "      <td>6.6</td>\n",
       "      <td>0.32</td>\n",
       "      <td>0.36</td>\n",
       "      <td>8.0</td>\n",
       "      <td>0.047</td>\n",
       "      <td>57.0</td>\n",
       "      <td>168.0</td>\n",
       "      <td>0.99490</td>\n",
       "      <td>3.15</td>\n",
       "      <td>0.46</td>\n",
       "      <td>9.6</td>\n",
       "      <td>5</td>\n",
       "      <td>0</td>\n",
       "      <td>1</td>\n",
       "    </tr>\n",
       "    <tr>\n",
       "      <th>4895</th>\n",
       "      <td>6.5</td>\n",
       "      <td>0.24</td>\n",
       "      <td>0.19</td>\n",
       "      <td>1.2</td>\n",
       "      <td>0.041</td>\n",
       "      <td>30.0</td>\n",
       "      <td>111.0</td>\n",
       "      <td>0.99254</td>\n",
       "      <td>2.99</td>\n",
       "      <td>0.46</td>\n",
       "      <td>9.4</td>\n",
       "      <td>6</td>\n",
       "      <td>0</td>\n",
       "      <td>1</td>\n",
       "    </tr>\n",
       "    <tr>\n",
       "      <th>4896</th>\n",
       "      <td>5.5</td>\n",
       "      <td>0.29</td>\n",
       "      <td>0.30</td>\n",
       "      <td>1.1</td>\n",
       "      <td>0.022</td>\n",
       "      <td>20.0</td>\n",
       "      <td>110.0</td>\n",
       "      <td>0.98869</td>\n",
       "      <td>3.34</td>\n",
       "      <td>0.38</td>\n",
       "      <td>12.8</td>\n",
       "      <td>7</td>\n",
       "      <td>0</td>\n",
       "      <td>1</td>\n",
       "    </tr>\n",
       "    <tr>\n",
       "      <th>4897</th>\n",
       "      <td>6.0</td>\n",
       "      <td>0.21</td>\n",
       "      <td>0.38</td>\n",
       "      <td>0.8</td>\n",
       "      <td>0.020</td>\n",
       "      <td>22.0</td>\n",
       "      <td>98.0</td>\n",
       "      <td>0.98941</td>\n",
       "      <td>3.26</td>\n",
       "      <td>0.32</td>\n",
       "      <td>11.8</td>\n",
       "      <td>6</td>\n",
       "      <td>0</td>\n",
       "      <td>1</td>\n",
       "    </tr>\n",
       "  </tbody>\n",
       "</table>\n",
       "<p>5320 rows × 14 columns</p>\n",
       "</div>"
      ],
      "text/plain": [
       "      fixed_acidity  volatile_acidity  citric_acid  residual_sugar  chlorides  \\\n",
       "0               7.4              0.70         0.00             1.9      0.076   \n",
       "1               7.8              0.88         0.00             2.6      0.098   \n",
       "2               7.8              0.76         0.04             2.3      0.092   \n",
       "3              11.2              0.28         0.56             1.9      0.075   \n",
       "5               7.4              0.66         0.00             1.8      0.075   \n",
       "...             ...               ...          ...             ...        ...   \n",
       "4893            6.2              0.21         0.29             1.6      0.039   \n",
       "4894            6.6              0.32         0.36             8.0      0.047   \n",
       "4895            6.5              0.24         0.19             1.2      0.041   \n",
       "4896            5.5              0.29         0.30             1.1      0.022   \n",
       "4897            6.0              0.21         0.38             0.8      0.020   \n",
       "\n",
       "      free_sulfur_dioxide  total_sulfur_dioxide  density    ph  sulphates  \\\n",
       "0                    11.0                  34.0  0.99780  3.51       0.56   \n",
       "1                    25.0                  67.0  0.99680  3.20       0.68   \n",
       "2                    15.0                  54.0  0.99700  3.26       0.65   \n",
       "3                    17.0                  60.0  0.99800  3.16       0.58   \n",
       "5                    13.0                  40.0  0.99780  3.51       0.56   \n",
       "...                   ...                   ...      ...   ...        ...   \n",
       "4893                 24.0                  92.0  0.99114  3.27       0.50   \n",
       "4894                 57.0                 168.0  0.99490  3.15       0.46   \n",
       "4895                 30.0                 111.0  0.99254  2.99       0.46   \n",
       "4896                 20.0                 110.0  0.98869  3.34       0.38   \n",
       "4897                 22.0                  98.0  0.98941  3.26       0.32   \n",
       "\n",
       "      alcohol  quality  red  white  \n",
       "0         9.4        5    1      0  \n",
       "1         9.8        5    1      0  \n",
       "2         9.8        5    1      0  \n",
       "3         9.8        6    1      0  \n",
       "5         9.4        5    1      0  \n",
       "...       ...      ...  ...    ...  \n",
       "4893     11.2        6    0      1  \n",
       "4894      9.6        5    0      1  \n",
       "4895      9.4        6    0      1  \n",
       "4896     12.8        7    0      1  \n",
       "4897     11.8        6    0      1  \n",
       "\n",
       "[5320 rows x 14 columns]"
      ]
     },
     "execution_count": 13,
     "metadata": {},
     "output_type": "execute_result"
    }
   ],
   "source": [
    "wine"
   ]
  },
  {
   "cell_type": "markdown",
   "metadata": {},
   "source": [
    "# Epic 1: Intro to Machine Learning\n",
    "The idea of making intelligent, sentient, and self-aware machines is not something that suddenly came into existence in the last few years. A large amount of lore from Greek mythology talks about intelligent machines and inventions having self-awareness and intelligence of their own.\n",
    "\n",
    "Computers started evolving with the invention of the Analytical Engine by Babbage. Ada Lovelace wrote the first computer program in 1842. People started wondering and contemplating if there could be a time when computers or machines truly become intelligent and start thinking for themselves. The renowned computer scientist, Alan Turing, was highly influential in the evolution of theoretical computer science, algorithms, and formal language and addressed concepts like artificial intelligence and Machine Learning as early as the 1950s. This brief insight into the evolution of making machines learn can give you an idea of something that has been out there for centuries but has recently started gaining a lot of attention and focus.\n",
    "\n",
    "With faster computers, better processing, better computation power, and more storage, we have been living in what has is referred to as the Age of Data.\n",
    "\n",
    "You can read about some statistical inference about ML: https://seedscientific.com/how-much-data-is-created-every-day/"
   ]
  },
  {
   "cell_type": "markdown",
   "metadata": {},
   "source": [
    "## Machine Learning Methods\n",
    "Data is used to solve real-world problems via Machine Learning algorithms, techniques, and methodologies.\n",
    "\n",
    "The following are some of the two broad areas of Machine Learning methods.\n",
    "\n",
    "- Supervised learning\n",
    "- Unsupervised learning\n",
    "\n",
    "You can find more about this here: A basic introduction to Machine Learning\n",
    "\n",
    "During the program, we will only cover Supervised Machine Learning methods, and your first project will be a classification task.\n",
    "\n",
    "You can dig deeper into Machine Learning concepts and different algorithms in the corresponding Machine Learning Fundamentals chapter. It is not necessary to read everything now. As we refer to new ideas, you can go to that chapter and read about them."
   ]
  },
  {
   "cell_type": "markdown",
   "metadata": {},
   "source": [
    "# Epic 2: Preparing your data\n",
    "Machine Learning is a fascinating area, currently in very high demand across all industries because of its versatility to solve a wide range of challenges. Its multiple applications include:\n",
    "\n",
    "- Optimizing internal processes.\n",
    "- Predicting credit card fraud.\n",
    "- Identifying skin cancer.\n",
    "- Forecasting demand of products.\n",
    "- Managing air traffic, among many others.\n",
    "\n",
    "Although ML is not the solution to all our problems (one of the main challenges is knowing when to use ML), its application is extensive. More companies are hiring Machine Learning experts, who are responsible for implementing the required models.\n",
    "\n",
    "To do that, you must follow several steps to ensure a successful ML project. The workflow is continuous: you either need to improve the model or retrain it with newer data when you reach the last stage. It's a wash-rinse-repeat process.\n",
    "\n",
    "It is also not linear, meaning that sometimes you may have to revisit a particular stage to fix or modify something and then continue to the next step.\n",
    "\n",
    "**This guide is for classification problems. Some methods and metrics for regression and prediction problems may vary.**\n",
    "\n",
    "Please be aware that this guide is by no means exhaustive or the only way to go about the process. If you research online or refer to a book, you will find that the order of the steps differ, or even additional or fewer stages. There is a diversity of ways with which you can approach projects. We encourage you to explore and read other people's code, to discover and implement different methods.\n",
    "\n",
    "So far, you've performed the two first steps of the ML workflow: collect and wrangle the data and the Exploratory Data Analysis (EDA). Here's a brief review:"
   ]
  },
  {
   "cell_type": "markdown",
   "metadata": {},
   "source": [
    "## Collect your data\n",
    "Throughout this course, we will provide you with the data sets. But in real life, you might find yourself in a situation where you have to retrieve the data yourself. Before you proceed, it is crucial to understand the question that needs to be answered, as this will indicate where you have to collect the data:\n",
    "\n",
    "- What kind of problem are you trying to solve?\n",
    "- What data sources exist inside or outside your company?\n",
    "- Is the data readily available in the different databases of your company (sales, customer service, website analytics, HR, shipping and delivery, etc.)?\n",
    "- Do you need to retrieve it from public sources, like government websites and publications? Is it public?\n",
    "- Do you need to buy data to answer these questions?\n",
    "- Maybe you need to scrape your competition's website?\n",
    "- Are there any privacy concerns with the data you are using?\n",
    "\n",
    "After you've uploaded your data and converted it into a DataFrame, display the first rows with the .head( ) method to overview your features and the data, and check for inconsistencies.\n",
    "\n",
    "*Upload*:\n",
    "\n",
    "- Did the data upload correctly?\n",
    "- The default delimiter of csv files is a comma ( , ) but it may happen that when the data was captured, they used a different delimiter. You will need to specify which delimiter to use to display the data correctly.\n",
    "\n",
    "*Labels*:\n",
    "\n",
    "- Are all labels written consistently? (underscore, space between words, capitalization)\n",
    "- Are there spelling mistakes?\n",
    "\n",
    "*Values*:\n",
    "\n",
    "- Are there any columns that you would like to merge or split? For example, separate first name and last name into two different columns.\n",
    "- You could also think of adding a new feature. For example, if you have sales data and the columns include the price of a unit and the number of units bought, you can add a column with the total, where total = price * quantity.\n",
    "- You can also decide to drop unnecessary columns.\n",
    "\n",
    "Always write down the steps you have taken and your observations. You will soon have to decide what to do with them."
   ]
  },
  {
   "cell_type": "markdown",
   "metadata": {},
   "source": [
    "## Wrangle your data\n",
    "Wrangling the data is a series of processes designed to transform raw data into usable data by cleaning, structuring and enriching it for analysis. The goal of this step is to increase the data quality. You will proceed to act upon the observations you made on the previous step.\n",
    "\n",
    "*Data structuring*:\n",
    "- Separate single columns into several columns or even several rows.\n",
    "- Merge data sets.\n",
    "- Find the number of rows and columns with the .shape() method.\n",
    "\n",
    "*Data cleaning*:\n",
    "- Handle missing values by dropping, imputing or flagging them.\n",
    "- Drop duplicates.\n",
    "- Drop unnecessary information (drop highly correlated features and drop features that do not help in the prediction).\n",
    "- Standardize formats and input ranges (covert all measures to the same format, i.e. celsius instead of Fahrenheit).\n",
    "- Change data to its correct type (make sure that numbers are of type int or float and not of type string, date types are of type date, etc).\n",
    "- Correct misspellings.\n",
    "- Remove outliers.\n",
    "\n",
    "An example of technique used to remove outliers is by using the IQR scores (Interquartile Range Scores), following the [IQR Rule](https://www.thoughtco.com/what-is-the-interquartile-range-rule-3126244#:~:text=Using%20the%20Interquartile%20Rule%20to%20Find%20Outliers&text=Multiply%20the%20interquartile%20range%20(IQR,IQR)%20from%20the%20first%20quartile.).\n",
    "\n",
    "Here you can find some examples of Outliers detection and removal: https://www.pluralsight.com/guides/cleaning-up-data-from-outliers.\n",
    "\n",
    "*Data enriching*:\n",
    "- Create new variables, like \"quality_label\" and \"wine_type\".\n",
    "\n",
    "You are already familiarized with these operations because you applied a few of these processes to the wine datasets. Because this is our first project, the data sets were well-structured and clean. In later projects, you will have to deepen your knowledge of the data wrangling process.\n",
    "\n",
    "Albeit tedious, data scientists estimate that data wrangling takes between 40% and 80% of their time.\n",
    "\n"
   ]
  },
  {
   "cell_type": "markdown",
   "metadata": {},
   "source": [
    "## Explore your data\n",
    "As the name suggests, during the Exploratory Data Analysis (EDA), you will explore data sets and summarize their main characteristics. It uses statistical and data visualization methods to help you discover relationships between the different variables, understand patterns, interpret the information and achieve insights. It is during the EDA that you confirm or discard your hypothesis.\n",
    "\n",
    "*Know your data*:\n",
    "\n",
    "Before you start working on your Machine Learning project, you need to understand your data set. In the LMS, we provided the descriptions of the variables of the red and white wine data sets, but this is not always the case, and sometimes you have to figure them out yourself. Please take a moment to look and understand them.\n",
    "\n",
    "*Review the statistical summary with .describe():*\n",
    "\n",
    "As you know, .describe() generates a summary of descriptive statistics (count, mean, standard deviation, maximum and minimum values, percentiles) for numeric values, excluding NaN values, and presents them in the form of a table.\n",
    "\n",
    "Write down some of your findings; you will revisit them later.\n",
    "\n",
    "*Perform univariate and multivariate analysis with visualisations:*\n",
    "\n",
    "Tables filled with numbers can be challenging to understand. Visualisations make our findings more palatable. In a glimpse, plots and charts allow you to take in powerful insights.\n",
    "\n",
    "**Univariate analysis**  \n",
    "First, you will perform univariate analysis, which means you will evaluate each variable independently. For example, in Sprint 1, you created several plots to analyse and compare the distribution of the data points of the \"quality_label\" feature, and in Sprint 2, you reviewed the residual sugar content in wine.\n",
    "\n",
    "Histograms and boxplots are commonly used for that type of analysis. With practice, histograms are one of the best ways to quickly learn a lot about your data, including central tendency, spread, modality, shape and outliers. On the other hand, boxplots show robust measures of location and spread and provide information about symmetry and outliers.\n",
    "\n",
    "Write down interesting findings that you could use for the presentation or that help you answer the project's questions.\n",
    "\n",
    "**Multivariate analysis**  \n",
    "As you may have guessed, multivariate analysis helps you map and understand interactions between two or more variables in the data. It involves checking out distributions and potential relationships, patterns, and correlations amongst these attributes.\n",
    "\n",
    "Density and scatter plots are good ways to visualise these relationships. Scatter plots help understand the relationship between continuous, numeric variables. You already did a couple when working with the movie data set in RapidMiner."
   ]
  },
  {
   "cell_type": "markdown",
   "metadata": {},
   "source": [
    "*Create a correlation matrix:*\n",
    "\n",
    "Analysing variables with a correlation matrix is the fastest way to develop a general understanding of their relationships. Correlation is a measurement that describes the relationship between two variables; thus, a correlation matrix is a table that shows the correlation coefficients between many variables.\n",
    "\n",
    "A simple way of visualising these correlations is through a heatmap, like the one below. You can observe that the correlation between two random variables is a number that runs from -1 to +1.\n",
    "\n",
    "Some tips for reading a heatmap:\n",
    "- A value of 1 means that both variables move in the same direction (robust direct linear relationship).\n",
    "- A value of 0 means that the variables are not correlated (no linear relationship).\n",
    "- A value of -1 means the variables move in opposite directions (strong inverse linear relationship).\n",
    "- Look out for the variables that are not correlated with each other but with the target variable.\n",
    "- Collinearity between variables is often insightful because it may uncover surprising variable relationships.\n",
    "- If you spot strongly correlated variables, you can pick one to drop to avoid \"feature leakage\". Usually, a value of 0.9 is a reasonable threshold."
   ]
  },
  {
   "cell_type": "markdown",
   "metadata": {},
   "source": [
    "*Calculate Analysis of Variance (ANOVA):*\n",
    "\n",
    "As you saw in the LMS, ANOVA is a statistical method used to determine whether two or more data samples have a significant difference. Moreover, ANOVA is used when one variable is numeric and the other categorical, because it calculates the variance between samples and within samples.\n",
    "\n",
    "Examples of when you might want to test different groups are:\n",
    "- A group of psychiatric patients are trying three different therapies: counselling, medication and biofeedback. You want to see if one type of therapy is better than the others.\n",
    "- A manufacturer has two different processes to make light bulbs. They want to compare them.\n",
    "- Students from different colleges take the same exam. You want to see if one college outperforms the other.\n",
    "\n",
    "Taking the last example case, usually, you would make two hypotheses:\n",
    "- **Null Hypothesis**: There is **NO** significant difference between the average score of the students for the exam between colleges.\n",
    "- **Alternative Hypothesis**: There **IS** a statistical difference between the average score of the students for the exam between colleges.\n",
    "\n",
    "The ANOVA test gives us two measures as a result:\n",
    "- **F-test score**: It calculates the variation between sample group means divided by variation within the sample group.\n",
    "- **P-value**: It shows us the confidence degree. In other words, it tells us whether the obtained result is statistically significant or not.\n",
    "\n",
    "A p-value above 0.05 (as we chose 95% as confidence level) indicates that no difference can be found. But, if the value is below, there is a statistically significant difference between the students of these two colleges.\n",
    "\n",
    "There are two kinds of ANOVA tests:\n",
    "- **One-Way ANOVA**: you are testing if there is a difference among samples considering only one independent variable that affects the dependent variable.\n",
    "- **Two-Ways ANOVA test**: you are testing if there is a difference among samples considering two independent variables that affect the dependent variable.\n",
    "\n",
    "SciPy package has a built-in function to calculate ANOVA. For the sake of this programme, we will only be working with the **one-way ANOVA test**.\n",
    "\n",
    "In machine learning, you can use the results of this test for feature selection, where you can remove those features independent of the target variable from the dataset. For example, your wine data set has twelve numeric variables and one categorical variable. The results of the ANOVA test will let you know.\n",
    "\n",
    "It is now time to continue with your first ML project using the wine datasets.\n",
    "\n",
    "So far, you have performed all of the steps listed above. We're now going to move forward in the roadmap to develop an ML project."
   ]
  },
  {
   "cell_type": "markdown",
   "metadata": {},
   "source": [
    "*Calculate skewness and kurtosis:*\n",
    "\n",
    "Two helpful univariate descriptors are skewness and kurtosis. Skewness measures asymmetry in the data distribution, while kurtosis measures *peakedness*. Use them for quantitative data.\n",
    "\n",
    "The skewness reflects the shape and distribution of the data. As you will see later on, asymmetrical data (with negative or positive skewness) may negatively influence your Machine Learning model. Therefore, you will have to use data transformation tools to normalise the distribution artificially. For more information about skewness, visit [this article](https://www.analyticsvidhya.com/blog/2020/07/what-is-skewness-statistics/)."
   ]
  },
  {
   "cell_type": "code",
   "execution_count": 14,
   "metadata": {},
   "outputs": [
    {
     "ename": "NameError",
     "evalue": "name 'df' is not defined",
     "output_type": "error",
     "traceback": [
      "\u001b[0;31m---------------------------------------------------------------------------\u001b[0m",
      "\u001b[0;31mNameError\u001b[0m                                 Traceback (most recent call last)",
      "\u001b[1;32m/Users/michalpasternak/Documents/CA/Project_2/Sprint_3_and_4/wine_sprint_3.ipynb Cell 17\u001b[0m line \u001b[0;36m1\n\u001b[0;32m----> <a href='vscode-notebook-cell:/Users/michalpasternak/Documents/CA/Project_2/Sprint_3_and_4/wine_sprint_3.ipynb#X22sZmlsZQ%3D%3D?line=0'>1</a>\u001b[0m \u001b[39mprint\u001b[39m(df[\u001b[39m'\u001b[39m\u001b[39mtotal_bill\u001b[39m\u001b[39m'\u001b[39m]\u001b[39m.\u001b[39mastype(\u001b[39mfloat\u001b[39m)\u001b[39m.\u001b[39mskew())\n",
      "\u001b[0;31mNameError\u001b[0m: name 'df' is not defined"
     ]
    }
   ],
   "source": [
    "print(df['total_bill'].astype(float).skew())"
   ]
  },
  {
   "cell_type": "code",
   "execution_count": 15,
   "metadata": {},
   "outputs": [
    {
     "data": {
      "text/plain": [
       "5.338236960791629"
      ]
     },
     "execution_count": 15,
     "metadata": {},
     "output_type": "execute_result"
    }
   ],
   "source": [
    "wine['chlorides'].skew()"
   ]
  },
  {
   "cell_type": "code",
   "execution_count": 16,
   "metadata": {},
   "outputs": [
    {
     "data": {
      "text/plain": [
       "0.545695978384562"
      ]
     },
     "execution_count": 16,
     "metadata": {},
     "output_type": "execute_result"
    }
   ],
   "source": [
    "wine['alcohol'].skew()"
   ]
  },
  {
   "cell_type": "markdown",
   "metadata": {},
   "source": [
    "Kurtosis identifies outliers: data with high kurtosis (heavy-tailed data) is proof of outliers, and data with low kurtosis (light-tailed data) lacks them."
   ]
  },
  {
   "cell_type": "code",
   "execution_count": 17,
   "metadata": {},
   "outputs": [
    {
     "ename": "NameError",
     "evalue": "name 'df' is not defined",
     "output_type": "error",
     "traceback": [
      "\u001b[0;31m---------------------------------------------------------------------------\u001b[0m",
      "\u001b[0;31mNameError\u001b[0m                                 Traceback (most recent call last)",
      "\u001b[1;32m/Users/michalpasternak/Documents/CA/Project_2/Sprint_3_and_4/wine_sprint_3.ipynb Cell 21\u001b[0m line \u001b[0;36m1\n\u001b[0;32m----> <a href='vscode-notebook-cell:/Users/michalpasternak/Documents/CA/Project_2/Sprint_3_and_4/wine_sprint_3.ipynb#X26sZmlsZQ%3D%3D?line=0'>1</a>\u001b[0m \u001b[39mprint\u001b[39m(df[\u001b[39m'\u001b[39m\u001b[39mtotal_bill\u001b[39m\u001b[39m'\u001b[39m]\u001b[39m.\u001b[39mastype(\u001b[39mfloat\u001b[39m)\u001b[39m.\u001b[39mkurt())\n",
      "\u001b[0;31mNameError\u001b[0m: name 'df' is not defined"
     ]
    }
   ],
   "source": [
    "print(df['total_bill'].astype(float).kurt())"
   ]
  },
  {
   "cell_type": "code",
   "execution_count": 18,
   "metadata": {},
   "outputs": [
    {
     "data": {
      "text/plain": [
       "48.260708159390234"
      ]
     },
     "execution_count": 18,
     "metadata": {},
     "output_type": "execute_result"
    }
   ],
   "source": [
    "wine['chlorides'].kurt()"
   ]
  },
  {
   "cell_type": "code",
   "execution_count": 19,
   "metadata": {},
   "outputs": [
    {
     "data": {
      "text/plain": [
       "-0.5381692626494865"
      ]
     },
     "execution_count": 19,
     "metadata": {},
     "output_type": "execute_result"
    }
   ],
   "source": [
    "wine['alcohol'].kurt()"
   ]
  },
  {
   "cell_type": "markdown",
   "metadata": {},
   "source": [
    "Both these measures will be helpful when you're preparing your data to implement an ML model."
   ]
  },
  {
   "cell_type": "markdown",
   "metadata": {},
   "source": [
    "# Epic 3: Predictive modelling\n",
    "Data preprocessing refers to preparing the raw data to make it suitable for building and training Machine Learning models. This preparation entails several steps and is essential to enhance the quality of the data and extract meaningful insights from it.\n",
    "\n",
    "For some of the steps that follow, you will use the ScikitLearn library, especially the [sklearn.preprocessing package](https://scikit-learn.org/stable/modules/preprocessing.html), to transform raw features into a representation that is more suitable for ML models.\n",
    "\n",
    "You will follow all the following steps to predict first the type of wine (red or white), and then you will have to repeat them to predict the quality (low, medium, high or however you have decided to label your wines)."
   ]
  },
  {
   "cell_type": "markdown",
   "metadata": {},
   "source": [
    "## Encoding categorical variables\n",
    "Machine learning models cannot handle categorical data, meaning that to make categorical data useful, you will be required to encode the data or transform it into numerical values. There are several techniques to encode your data, and using one over the other depends on several factors, for example:\n",
    "\n",
    "*a. Is your variable nominal or ordinal?*:\n",
    "- **Nominal variable**: the values have no relationship between them. For example, if we represent a list of countries with a number, the number won't have any 'weight', meaning that no country is more important than the other.\n",
    "- **Ordinal variable**: This variable has an order or rank associated with it, like the \"low\", \"medium\", and \"high\" quality labels of your win data set.\n",
    "\n",
    "*b. Is the variable that you're trying to encode the target or a feature?*:\n",
    "- **One-Hot Encoder**: The One-Hot Encoder converts each category value into a new column and assigns a 1 or 0 (True/False) value to the corresponding column. The encoder prevents the model from weighting a value improperly. To illustrate this, if we have a list of wines, a wine of the category \"white\" will have 0 in the \"red\" and a 1 in the \"white\" category. As you can see, these categories are nominal. According to the [documentation](https://scikit-learn.org/stable/modules/generated/sklearn.preprocessing.OneHotEncoder.html), use the One-Hot Encoder for the input values X.\n",
    "- **Ordinal Encoder**: The Ordinal Encoder class is similar to Label Encoder, but you use it for **input values X that can be ranked**.\n",
    "- **Label Binarizer**: use the Label Binarizer for target value y in nominal categories.\n",
    "- **Label Encoder**: Contrary to the One-Hot Encoder, the Label Encoder is not binary but converts every categorical value to a number. Use it to encode ordinal data. According to the [documentation](https://scikit-learn.org/stable/modules/generated/sklearn.preprocessing.LabelEncoder.html), you should use the Label Encoder for the target value y.\n",
    "\n",
    "For more information on transforming the prediction target, refer to [this article](https://scikit-learn.org/stable/modules/preprocessing_targets.html#preprocessing-targets).\n",
    "\n",
    "In this project you you will need to use the One-Hot Encoder for the *wine type* and the Label Encoder for the *quality label*.\n",
    "\n"
   ]
  },
  {
   "cell_type": "code",
   "execution_count": 20,
   "metadata": {},
   "outputs": [],
   "source": [
    "# this happens when we create a df with all wines for later analysis adding color of wine as parameters"
   ]
  },
  {
   "cell_type": "markdown",
   "metadata": {},
   "source": [
    "## Split your data\n",
    "Now that you've encoded your categorical values, we can proceed to the next step, which is splitting our data set into a train and a test group. You will be using Scikit-learn's [train_test_split function](https://scikit-learn.org/stable/modules/generated/sklearn.model_selection.train_test_split.html?highlight=train%20test%20split#). The purpose of this split is to use a portion of the data to create the model (train), while the other part is to check the model's performance (test)."
   ]
  },
  {
   "cell_type": "code",
   "execution_count": 21,
   "metadata": {},
   "outputs": [
    {
     "ename": "NameError",
     "evalue": "name 'df' is not defined",
     "output_type": "error",
     "traceback": [
      "\u001b[0;31m---------------------------------------------------------------------------\u001b[0m",
      "\u001b[0;31mNameError\u001b[0m                                 Traceback (most recent call last)",
      "\u001b[1;32m/Users/michalpasternak/Documents/CA/Project_2/Sprint_3_and_4/wine_sprint_3.ipynb Cell 29\u001b[0m line \u001b[0;36m1\n\u001b[0;32m----> <a href='vscode-notebook-cell:/Users/michalpasternak/Documents/CA/Project_2/Sprint_3_and_4/wine_sprint_3.ipynb#X40sZmlsZQ%3D%3D?line=0'>1</a>\u001b[0m X \u001b[39m=\u001b[39m df \u001b[39m# --> the features we will keep to build our model\u001b[39;00m\n\u001b[1;32m      <a href='vscode-notebook-cell:/Users/michalpasternak/Documents/CA/Project_2/Sprint_3_and_4/wine_sprint_3.ipynb#X40sZmlsZQ%3D%3D?line=1'>2</a>\u001b[0m y \u001b[39m=\u001b[39m target \u001b[39m# --> what you're trying to predict\u001b[39;00m\n\u001b[1;32m      <a href='vscode-notebook-cell:/Users/michalpasternak/Documents/CA/Project_2/Sprint_3_and_4/wine_sprint_3.ipynb#X40sZmlsZQ%3D%3D?line=3'>4</a>\u001b[0m \u001b[39m# Example:\u001b[39;00m\n",
      "\u001b[0;31mNameError\u001b[0m: name 'df' is not defined"
     ]
    }
   ],
   "source": [
    "X = df # --> the features we will keep to build our model\n",
    "y = target # --> what you're trying to predict\n",
    "\n",
    "# Example:\n",
    "y=X.SalePrice\n",
    "X.drop(['SalePrice'],axis=1,inplace=True)\n",
    "print(y)\n",
    "\n",
    "X_train, X_test, y_train, y_test = train_test_split(X,y,test_size=0.2, random_state=42)"
   ]
  },
  {
   "cell_type": "code",
   "execution_count": 22,
   "metadata": {},
   "outputs": [
    {
     "name": "stdout",
     "output_type": "stream",
     "text": [
      "0       1\n",
      "1       1\n",
      "2       1\n",
      "3       1\n",
      "5       1\n",
      "       ..\n",
      "4893    0\n",
      "4894    0\n",
      "4895    0\n",
      "4896    0\n",
      "4897    0\n",
      "Name: red, Length: 5320, dtype: int64\n"
     ]
    }
   ],
   "source": [
    "X = wine # --> the features we will keep to build our model\n",
    "y = X['red'] # --> what you're trying to predict\n",
    "X.drop(['red', 'white'],axis=1,inplace=True)\n",
    "print(y)\n",
    "\n",
    "X_train, X_test, y_train, y_test = train_test_split(X,y,test_size=0.2, random_state=42)"
   ]
  },
  {
   "cell_type": "markdown",
   "metadata": {},
   "source": [
    "Another more advanced and precise technique is to split your data into three parts, especially when comparing several models: the train, validation, and test groups. The article [\"What is the Difference Between Test and Validation Datasets?\"](https://machinelearningmastery.com/difference-test-validation-datasets/) by Jason Brownlee describes each group as follows:\n",
    "- **Training dataset**: The sample of data used to fit the model.\n",
    "- **Validation dataset**: The sample of data used to provide an unbiased evaluation of a model fit on the training dataset while tuning model hyperparameters (...).\n",
    "- **Test dataset**: The sample of data used to provide an unbiased evaluation of a final model fit on the training dataset.\n",
    "\n",
    "Scikit-learn still doesn't have a way to create these three groups automatically. The train_test_split function only splits the data set into two: training and testing data.\n",
    "\n",
    "For now, you can simply split your dataset into 2 (train and test).\n",
    "\n"
   ]
  },
  {
   "cell_type": "markdown",
   "metadata": {},
   "source": [
    "## Perform Feature scaling\n",
    "Feature scaling transforms the values of numeric columns in the dataset to a common scale, without distorting differences in the ranges of values, to avoid the model giving more importance to one variable over the other. For example, if your data contains the variables of age and hair follicle density, the ranges can go from 0 to 100 and from 0 to a hundred thousand.\n",
    "\n",
    "There are two ways of approaching this challenge: normalisation and standardisation. Let's dive deeper into these concepts.\n",
    "\n",
    "**Normalisation** rescales the values into a range of [ 0, 1 ]:\n",
    "- **MinMaxScaler**: This estimator scales and translates each feature individually from the original range so that all values are between 0 and 1. As with StandardScaler, it is susceptible to the presence of outliers.\n",
    "\n",
    "**Standardisation** typically rescales data with a mean of 0 and a standard deviation of 1 (unit variance). The most common scalers are:\n",
    "- **StandardScaler**: It shrinks the range of the feature values. However, this scaler doesn't work correctly in the presence of outliers.\n",
    "- **RobustScaler**: If your data set contains outliers, this scaler is more appropriate because it works with the 1st and 3rd quantiles and not the mean and variance scaling.\n",
    "\n",
    "If you're wondering when to normalise or standardise your data, it all goes down to its distribution:\n",
    "- Use **normalisation** techniques when you know that the distribution of your **data is skewed**.\n",
    "- On the other hand, **standardisation** can be helpful in cases where the data follows a Gaussian distribution (**normal distribution**). Also, outliers will not be affected by standardisation.\n",
    "\n",
    "Please refer to [\"Feature Scaling for Machine Learning: Understanding the Difference Between Normalisation vs Standardisation\"](https://www.analyticsvidhya.com/blog/2020/04/feature-scaling-machine-learning-normalization-standardization/) by Aniruddha Bhandari for more information on the matter.\n",
    "\n",
    "One common misconception is that feature scaling should be done before the split. Still, the recommendation is to do it individually on the train and test sets to avoid data leakage. [This article](https://towardsdatascience.com/preventing-data-leakage-in-your-machine-learning-model-9ae54b3cd1fb) explains better the concept of data leakage and the reasons to do scaling after the split.\n",
    "\n",
    "After defining which scaler best suits your needs, it's time to implement it to your data:"
   ]
  },
  {
   "cell_type": "code",
   "execution_count": 23,
   "metadata": {},
   "outputs": [],
   "source": [
    "# data normalisation with sklearn\n",
    "from sklearn.preprocessing import MinMaxScaler\n",
    "\n",
    "# fit scaler on training data\n",
    "norm = MinMaxScaler().fit(X_train)\n",
    "\n",
    "# transform training data\n",
    "X_train_norm = norm.transform(X_train)\n",
    "\n",
    "# transform testing data\n",
    "X_test_norm = norm.transform(X_test)"
   ]
  },
  {
   "cell_type": "markdown",
   "metadata": {},
   "source": [
    "Your data is now ready to be used in a Machine Learning algorithm! Continue by reading Sprint 4 to know what to do next."
   ]
  }
 ],
 "metadata": {
  "kernelspec": {
   "display_name": "base",
   "language": "python",
   "name": "python3"
  },
  "language_info": {
   "codemirror_mode": {
    "name": "ipython",
    "version": 3
   },
   "file_extension": ".py",
   "mimetype": "text/x-python",
   "name": "python",
   "nbconvert_exporter": "python",
   "pygments_lexer": "ipython3",
   "version": "3.11.5"
  }
 },
 "nbformat": 4,
 "nbformat_minor": 2
}
